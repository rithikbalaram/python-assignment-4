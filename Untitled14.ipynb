{
 "cells": [
  {
   "cell_type": "markdown",
   "metadata": {},
   "source": [
    "assignment 1"
   ]
  },
  {
   "cell_type": "code",
   "execution_count": 1,
   "metadata": {},
   "outputs": [
    {
     "name": "stdout",
     "output_type": "stream",
     "text": [
      "Enter the sentence:what we think we become; we are Python programmer\n",
      "what we think we become; we are Python programmer\n",
      "Enter the word: we\n",
      "The word 'we' present in 'what we think we become; we are Python programmer' as: 1 --> 5 \n",
      "The word 'we' present in 'what we think we become; we are Python programmer' as: 2 --> 14 \n",
      "The word 'we' present in 'what we think we become; we are Python programmer' as: 3 --> 25 \n"
     ]
    }
   ],
   "source": [
    "string1 = input(\"Enter the sentence:\")\n",
    "print(string1)\n",
    "string2 = input(\"Enter the word: \")\n",
    "a = 0\n",
    "for i in range(len(string1)): \n",
    "  if string1.startswith(string2, i):\n",
    "    a=a+1\n",
    "    print(f\"The word '{string2}' present in '{string1}' as: {a} --> {i} \")\n",
    "if a==0:\n",
    "  print(f\"The word '{string2}' is not present in '{string1}'\")"
   ]
  },
  {
   "cell_type": "markdown",
   "metadata": {},
   "source": [
    "assignment 2"
   ]
  },
  {
   "cell_type": "code",
   "execution_count": 2,
   "metadata": {},
   "outputs": [
    {
     "name": "stdout",
     "output_type": "stream",
     "text": [
      "Enter number of strings you want check:1\n",
      "Enter the string2\n",
      "It contains full of numbers\n",
      "The given string is uppercase: False\n",
      "The given string is lowercase: False\n"
     ]
    }
   ],
   "source": [
    "a = int(input(\"Enter number of strings you want check:\"))\n",
    "for i in range(0,a):\n",
    "  s1= input(\"Enter the string\")\n",
    "  if s1.isalpha():\n",
    "    print(\"It contains full of alphabet\")\n",
    "  elif s1.isdigit():\n",
    "    print(\"It contains full of numbers\")\n",
    "  else:\n",
    "    print(\"It contains alphabet and numbers\")\n",
    "  upr= s1.isupper()\n",
    "  print(\"The given string is uppercase:\",upr)\n",
    "  lwr= s1.islower()\n",
    "  print(\"The given string is lowercase:\",lwr)"
   ]
  },
  {
   "cell_type": "code",
   "execution_count": null,
   "metadata": {},
   "outputs": [],
   "source": []
  }
 ],
 "metadata": {
  "kernelspec": {
   "display_name": "Python 3",
   "language": "python",
   "name": "python3"
  },
  "language_info": {
   "codemirror_mode": {
    "name": "ipython",
    "version": 3
   },
   "file_extension": ".py",
   "mimetype": "text/x-python",
   "name": "python",
   "nbconvert_exporter": "python",
   "pygments_lexer": "ipython3",
   "version": "3.7.6"
  }
 },
 "nbformat": 4,
 "nbformat_minor": 4
}
